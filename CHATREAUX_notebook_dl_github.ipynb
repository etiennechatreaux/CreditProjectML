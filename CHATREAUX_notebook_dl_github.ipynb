{
 "cells": [
  {
   "cell_type": "markdown",
   "metadata": {},
   "source": [
    "# CreditProjet ML (resit)\n",
    "\n",
    "I'm sorry to push this notebook but my training was not completed. It will be push on my GitHub in the night. I will send you the notebook by email as well.\n",
    "\n",
    "You can run the next cells to download the notebook and the different needed files."
   ]
  },
  {
   "cell_type": "code",
   "execution_count": 7,
   "metadata": {},
   "outputs": [],
   "source": [
    "import requests\n",
    "\n",
    "notebook_url = \"https://raw.githubusercontent.com/etiennechatreaux/CreditProjectML/master/notebook_CHATREAUX.ipynb\"\n",
    "response = requests.get(notebook_url)\n"
   ]
  },
  {
   "cell_type": "code",
   "execution_count": 11,
   "metadata": {},
   "outputs": [
    {
     "name": "stdout",
     "output_type": "stream",
     "text": [
      "Le notebook a été sauvegardé avec succès dans notebook_CHATREAUX.ipynb\n"
     ]
    }
   ],
   "source": [
    "if response.status_code == 200:\n",
    "    notebook_content = response.text\n",
    "    with open('notebook_CHATREAUX.ipynb', 'w', encoding='utf-8') as f:\n",
    "        f.write(notebook_content)\n",
    "    print(\"Le notebook a été sauvegardé avec succès dans notebook_CHATREAUX.ipynb\")\n",
    "else:\n",
    "    print(f\"Erreur lors du téléchargement: {response.status_code}\")"
   ]
  },
  {
   "cell_type": "code",
   "execution_count": null,
   "metadata": {},
   "outputs": [],
   "source": [
    "# DL pipelines.py\n",
    "pipeline_url = \"https://raw.githubusercontent.com/etiennechatreaux/CreditProjectML/master/pipelines.py\"\n",
    "response = requests.get(pipeline_url)\n",
    "if response.status_code == 200:\n",
    "    with open('pipelines.py', 'w', encoding='utf-8') as f:\n",
    "        f.write(response.text)\n",
    "    print(\"Le fichier pipelines.py a été sauvegardé avec succès\")\n",
    "else:\n",
    "    print(f\"Erreur lors du téléchargement de pipelines.py: {response.status_code}\")\n",
    "\n",
    "# DL preprocessing.py\n",
    "preprocessing_url = \"https://raw.githubusercontent.com/etiennechatreaux/CreditProjectML/master/preprocessing.py\"\n",
    "response = requests.get(preprocessing_url)\n",
    "if response.status_code == 200:\n",
    "    with open('preprocessing.py', 'w', encoding='utf-8') as f:\n",
    "        f.write(response.text)\n",
    "    print(\"Le fichier preprocessing.py a été sauvegardé avec succès\")\n",
    "else:\n",
    "    print(f\"Erreur lors du téléchargement de preprocessing.py: {response.status_code}\")\n"
   ]
  }
 ],
 "metadata": {
  "kernelspec": {
   "display_name": "Python 3",
   "language": "python",
   "name": "python3"
  },
  "language_info": {
   "codemirror_mode": {
    "name": "ipython",
    "version": 3
   },
   "file_extension": ".py",
   "mimetype": "text/x-python",
   "name": "python",
   "nbconvert_exporter": "python",
   "pygments_lexer": "ipython3",
   "version": "3.10.0"
  }
 },
 "nbformat": 4,
 "nbformat_minor": 2
}
